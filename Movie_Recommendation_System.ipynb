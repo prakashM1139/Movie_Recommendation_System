{
 "cells": [
  {
   "cell_type": "markdown",
   "id": "55dec92e-3824-4d27-9e76-7a03d3541573",
   "metadata": {},
   "source": [
    "# Importing libraries"
   ]
  },
  {
   "cell_type": "code",
   "execution_count": 1,
   "id": "cba97f1e-4340-41f5-a359-88c51149b295",
   "metadata": {},
   "outputs": [],
   "source": [
    "import numpy as np\n",
    "import pandas as pd\n",
    "import ast\n",
    "from sklearn.feature_extraction.text import CountVectorizer\n",
    "import nltk\n",
    "from nltk import PorterStemmer\n",
    "from sklearn.metrics.pairwise import cosine_similarity\n",
    "import compress_pickle as cPickle"
   ]
  },
  {
   "cell_type": "markdown",
   "id": "cd232d4c-5e94-48ba-a02e-6972b3cfa0cc",
   "metadata": {},
   "source": [
    "# Problem Formulation\n",
    "---\n",
    "The objective is to build a model which recommends movies similiar to the movie the user likes or already watched. We will first pre-process the data and then build a model using `nltk` to pre-process the text data for ML analysis and using `cosine similarity` from `scikit-learn` to retrieve similiar movies with `TMDB` dataset which consists of 5000 movies data.Next step would be integrating it with `streamlit` to create web app.\n",
    "\n",
    "During model building we will cover concepts such as `Data loading`, `Data cleaning`, `Feature engineering`, `Dimensionality reduction`, `Vectorization`, `Stemming` and `Cosine similarity`.\n",
    "\n",
    "Technology and tools wise this project covers : \n",
    " - Language : `Python`\n",
    " - Data cleaning : `Numpy and Pandas`\n",
    " - Data visualization : `Matplotlib`\n",
    " - Data pre-processing : `Natural Language Toolkit(NLTK)`,`Scikit-learn`\n",
    " - Model building : `Scikit-learn`\n",
    " - UI :`Streamlit`"
   ]
  },
  {
   "cell_type": "markdown",
   "id": "3dbc611e-8e3e-409e-9682-65c23af63bac",
   "metadata": {},
   "source": [
    "# Data Loading\n",
    "---\n",
    "Dataset - TMDB | 5000 movies and credits dataset\n",
    " - RReading data from a CSV file and creating a DataFrame using Pandas."
   ]
  },
  {
   "cell_type": "code",
   "execution_count": 2,
   "id": "ad3677db-bc9b-44d2-aa26-8940cdc45064",
   "metadata": {},
   "outputs": [],
   "source": [
    "# contains movie info\n",
    "movies = pd.read_csv(r\"C:\\Users\\noble\\PycharmProjects\\movie-recommender\\data\\tmdb_3000_movies.csv\",encoding='latin1')\n",
    "# contains cast and crew info\n",
    "credits = pd.read_csv(r\"C:\\Users\\noble\\PycharmProjects\\movie-recommender\\data\\tmdb_3000_credits.csv\",encoding='latin1')"
   ]
  },
  {
   "cell_type": "code",
   "execution_count": 3,
   "id": "fb71f596-3068-421a-ac1c-7e855805e475",
   "metadata": {},
   "outputs": [],
   "source": [
    "# merging movies and credits\n",
    "movies = movies.merge(credits,on='title')"
   ]
  },
  {
   "cell_type": "code",
   "execution_count": 4,
   "id": "0f797213-6653-46de-820c-acc52046e658",
   "metadata": {},
   "outputs": [
    {
     "name": "stdout",
     "output_type": "stream",
     "text": [
      "<class 'pandas.core.frame.DataFrame'>\n",
      "RangeIndex: 2985 entries, 0 to 2984\n",
      "Columns: 188 entries, budget to Unnamed: 168\n",
      "dtypes: float64(3), int64(4), object(181)\n",
      "memory usage: 4.3+ MB\n"
     ]
    }
   ],
   "source": [
    "movies.info()"
   ]
  },
  {
   "cell_type": "markdown",
   "id": "ed0b175f-79fa-490e-b0e8-e16a12309529",
   "metadata": {},
   "source": [
    "# Data cleaning \n",
    "Taking only the columns required for content based filtering"
   ]
  },
  {
   "cell_type": "code",
   "execution_count": 5,
   "id": "6af85cfe-865a-4b13-8b8a-5973fcd1233b",
   "metadata": {},
   "outputs": [],
   "source": [
    "movies = movies[['title','genres','id','keywords','overview','cast','crew']]"
   ]
  },
  {
   "cell_type": "markdown",
   "id": "c5723769-8354-4e4a-a0d8-77eae89800f6",
   "metadata": {},
   "source": [
    "Checking movie which has any one or more null values in a column"
   ]
  },
  {
   "cell_type": "code",
   "execution_count": 6,
   "id": "0739cf1c-6d36-4bb1-a200-3dcd6b5bab6d",
   "metadata": {},
   "outputs": [
    {
     "data": {
      "text/plain": [
       "title       0\n",
       "genres      0\n",
       "id          0\n",
       "keywords    0\n",
       "overview    1\n",
       "cast        0\n",
       "crew        2\n",
       "dtype: int64"
      ]
     },
     "execution_count": 6,
     "metadata": {},
     "output_type": "execute_result"
    }
   ],
   "source": [
    "movies.isnull().sum()"
   ]
  },
  {
   "cell_type": "code",
   "execution_count": 7,
   "id": "021b3142-a489-401b-ae95-b4b02558203b",
   "metadata": {},
   "outputs": [
    {
     "data": {
      "text/plain": [
       "(2985, 7)"
      ]
     },
     "execution_count": 7,
     "metadata": {},
     "output_type": "execute_result"
    }
   ],
   "source": [
    "movies.shape"
   ]
  },
  {
   "cell_type": "markdown",
   "id": "ca3e1db2-5440-4168-9e48-e8f4c7b4531d",
   "metadata": {},
   "source": [
    "dropping those rows which has null values"
   ]
  },
  {
   "cell_type": "code",
   "execution_count": 8,
   "id": "bc3f772b-687c-4dac-9dc2-25628f75fb75",
   "metadata": {},
   "outputs": [],
   "source": [
    "movies.dropna(inplace=True)"
   ]
  },
  {
   "cell_type": "markdown",
   "id": "6a489fed-aef4-45aa-9e37-f6c6769549d3",
   "metadata": {},
   "source": [
    "Converting json to string and getting only name of genres and keywords"
   ]
  },
  {
   "cell_type": "code",
   "execution_count": 9,
   "id": "9ac23249-b9e2-437c-9bbe-c00db8c22132",
   "metadata": {},
   "outputs": [],
   "source": [
    "def derive(a):\n",
    "    L = []\n",
    "    for i in ast.literal_eval(a):\n",
    "        L.append(i['name'])\n",
    "    return L"
   ]
  },
  {
   "cell_type": "code",
   "execution_count": 10,
   "id": "24c0a5d4-f316-4770-b0b7-768a89ba51b0",
   "metadata": {},
   "outputs": [
    {
     "data": {
      "text/plain": [
       "0       [{\"id\": 28, \"name\": \"Action\"}, {\"id\": 12, \"nam...\n",
       "1       [{\"id\": 12, \"name\": \"Adventure\"}, {\"id\": 14, \"...\n",
       "2       [{\"id\": 28, \"name\": \"Action\"}, {\"id\": 12, \"nam...\n",
       "3       [{\"id\": 28, \"name\": \"Action\"}, {\"id\": 80, \"nam...\n",
       "4       [{\"id\": 28, \"name\": \"Action\"}, {\"id\": 12, \"nam...\n",
       "                              ...                        \n",
       "2980    [{\"id\": 18, \"name\": \"Drama\"}, {\"id\": 35, \"name...\n",
       "2981    [{\"id\": 878, \"name\": \"Science Fiction\"}, {\"id\"...\n",
       "2982    [{\"id\": 28, \"name\": \"Action\"}, {\"id\": 12, \"nam...\n",
       "2983    [{\"id\": 28, \"name\": \"Action\"}, {\"id\": 12, \"nam...\n",
       "2984    [{\"id\": 27, \"name\": \"Horror\"}, {\"id\": 9648, \"n...\n",
       "Name: genres, Length: 2982, dtype: object"
      ]
     },
     "execution_count": 10,
     "metadata": {},
     "output_type": "execute_result"
    }
   ],
   "source": [
    "movies['genres']"
   ]
  },
  {
   "cell_type": "code",
   "execution_count": 11,
   "id": "b950999c-97ba-4620-96d8-8d859f036a30",
   "metadata": {},
   "outputs": [],
   "source": [
    "movies['genres'] = movies['genres'].apply(derive)"
   ]
  },
  {
   "cell_type": "code",
   "execution_count": 12,
   "id": "c6daf12f-a4ec-470b-a475-921b207d70ef",
   "metadata": {},
   "outputs": [],
   "source": [
    "movies['keywords'] = movies['keywords'].apply(derive)"
   ]
  },
  {
   "cell_type": "code",
   "execution_count": 13,
   "id": "3cd769b8-69da-4625-b55b-771e23695834",
   "metadata": {},
   "outputs": [],
   "source": [
    "# movies.head(2)"
   ]
  },
  {
   "cell_type": "code",
   "execution_count": 14,
   "id": "59eb12aa-b012-4185-9e69-df649a9fc9b6",
   "metadata": {},
   "outputs": [
    {
     "data": {
      "text/plain": [
       "0    [{\"cast_id\": 242, \"character\": \"Jake Sully\", \"...\n",
       "1    [{\"cast_id\": 4, \"character\": \"Captain Jack Spa...\n",
       "2    [{\"cast_id\": 1, \"character\": \"James Bond\", \"cr...\n",
       "3    [{\"cast_id\": 2, \"character\": \"Bruce Wayne / Ba...\n",
       "4    [{\"cast_id\": 5, \"character\": \"John Carter\", \"c...\n",
       "5    [{\"cast_id\": 30, \"character\": \"Peter Parker / ...\n",
       "6    [{\"cast_id\": 34, \"character\": \"Flynn Rider (vo...\n",
       "7    [{\"cast_id\": 76, \"character\": \"Tony Stark / Ir...\n",
       "8    [{\"cast_id\": 3, \"character\": \"Harry Potter\", \"...\n",
       "9    [{\"cast_id\": 18, \"character\": \"Bruce Wayne / B...\n",
       "Name: cast, dtype: object"
      ]
     },
     "execution_count": 14,
     "metadata": {},
     "output_type": "execute_result"
    }
   ],
   "source": [
    "movies['cast'].head(10)"
   ]
  },
  {
   "cell_type": "markdown",
   "id": "274847f4-5a11-4d55-8d90-4469fdacc2ae",
   "metadata": {},
   "source": [
    "To get top 3 cast of the movie"
   ]
  },
  {
   "cell_type": "code",
   "execution_count": 15,
   "id": "038b8337-69e0-4a41-8ecb-9832663c9c9d",
   "metadata": {},
   "outputs": [],
   "source": [
    "def derive3(a):\n",
    "    L = []\n",
    "    counter = 0\n",
    "    for i in ast.literal_eval(a):\n",
    "        if counter<3:\n",
    "            L.append(i['name'])\n",
    "            counter+=1\n",
    "        else:\n",
    "            break\n",
    "    return L"
   ]
  },
  {
   "cell_type": "code",
   "execution_count": 16,
   "id": "c6c113eb-47ef-453f-b771-11e012f02c53",
   "metadata": {},
   "outputs": [],
   "source": [
    "movies['cast'] = movies['cast'].apply(derive3)"
   ]
  },
  {
   "cell_type": "code",
   "execution_count": 17,
   "id": "440065cb-a27f-4247-b3f1-e865187df395",
   "metadata": {},
   "outputs": [
    {
     "data": {
      "text/plain": [
       "0     [Sam Worthington, Zoe Saldana, Sigourney Weaver]\n",
       "1        [Johnny Depp, Orlando Bloom, Keira Knightley]\n",
       "2         [Daniel Craig, Christoph Waltz, Léa Seydoux]\n",
       "3         [Christian Bale, Michael Caine, Gary Oldman]\n",
       "4       [Taylor Kitsch, Lynn Collins, Samantha Morton]\n",
       "5         [Tobey Maguire, Kirsten Dunst, James Franco]\n",
       "6            [Zachary Levi, Mandy Moore, Donna Murphy]\n",
       "7    [Robert Downey Jr., Chris Hemsworth, Mark Ruff...\n",
       "8        [Daniel Radcliffe, Rupert Grint, Emma Watson]\n",
       "9               [Ben Affleck, Henry Cavill, Gal Gadot]\n",
       "Name: cast, dtype: object"
      ]
     },
     "execution_count": 17,
     "metadata": {},
     "output_type": "execute_result"
    }
   ],
   "source": [
    "movies['cast'].head(10)"
   ]
  },
  {
   "cell_type": "markdown",
   "id": "b879e950-723f-48a2-ad4e-3c25115a6e74",
   "metadata": {},
   "source": [
    "To get the director name alone from cast json format"
   ]
  },
  {
   "cell_type": "code",
   "execution_count": 18,
   "id": "78a4cb47-e655-4e42-a5c0-e44cde969b16",
   "metadata": {},
   "outputs": [],
   "source": [
    "def deriveDirector(a):\n",
    "    L = []\n",
    "    for i in ast.literal_eval(a):\n",
    "        if i['job']==\"Director\":\n",
    "            L.append(i['name'])\n",
    "            break\n",
    "    return L"
   ]
  },
  {
   "cell_type": "code",
   "execution_count": 19,
   "id": "51ef5f08-e675-4955-a606-aca35f89b4ca",
   "metadata": {},
   "outputs": [],
   "source": [
    "movies['crew'] = movies['crew'].apply(deriveDirector)"
   ]
  },
  {
   "cell_type": "code",
   "execution_count": 20,
   "id": "d42f7100-b88c-4d51-aba7-efc69e4b3eab",
   "metadata": {},
   "outputs": [
    {
     "data": {
      "text/html": [
       "<div>\n",
       "<style scoped>\n",
       "    .dataframe tbody tr th:only-of-type {\n",
       "        vertical-align: middle;\n",
       "    }\n",
       "\n",
       "    .dataframe tbody tr th {\n",
       "        vertical-align: top;\n",
       "    }\n",
       "\n",
       "    .dataframe thead th {\n",
       "        text-align: right;\n",
       "    }\n",
       "</style>\n",
       "<table border=\"1\" class=\"dataframe\">\n",
       "  <thead>\n",
       "    <tr style=\"text-align: right;\">\n",
       "      <th></th>\n",
       "      <th>title</th>\n",
       "      <th>genres</th>\n",
       "      <th>id</th>\n",
       "      <th>keywords</th>\n",
       "      <th>overview</th>\n",
       "      <th>cast</th>\n",
       "      <th>crew</th>\n",
       "    </tr>\n",
       "  </thead>\n",
       "  <tbody>\n",
       "    <tr>\n",
       "      <th>0</th>\n",
       "      <td>Avatar</td>\n",
       "      <td>[Action, Adventure, Fantasy, Science Fiction]</td>\n",
       "      <td>19995</td>\n",
       "      <td>[culture clash, future, space war, space colon...</td>\n",
       "      <td>In the 22nd century, a paraplegic Marine is di...</td>\n",
       "      <td>[Sam Worthington, Zoe Saldana, Sigourney Weaver]</td>\n",
       "      <td>[James Cameron]</td>\n",
       "    </tr>\n",
       "    <tr>\n",
       "      <th>1</th>\n",
       "      <td>Pirates of the Caribbean: At World's End</td>\n",
       "      <td>[Adventure, Fantasy, Action]</td>\n",
       "      <td>285</td>\n",
       "      <td>[ocean, drug abuse, exotic island, east india ...</td>\n",
       "      <td>Captain Barbossa, long believed to be dead, ha...</td>\n",
       "      <td>[Johnny Depp, Orlando Bloom, Keira Knightley]</td>\n",
       "      <td>[Gore Verbinski]</td>\n",
       "    </tr>\n",
       "  </tbody>\n",
       "</table>\n",
       "</div>"
      ],
      "text/plain": [
       "                                      title  \\\n",
       "0                                    Avatar   \n",
       "1  Pirates of the Caribbean: At World's End   \n",
       "\n",
       "                                          genres     id  \\\n",
       "0  [Action, Adventure, Fantasy, Science Fiction]  19995   \n",
       "1                   [Adventure, Fantasy, Action]    285   \n",
       "\n",
       "                                            keywords  \\\n",
       "0  [culture clash, future, space war, space colon...   \n",
       "1  [ocean, drug abuse, exotic island, east india ...   \n",
       "\n",
       "                                            overview  \\\n",
       "0  In the 22nd century, a paraplegic Marine is di...   \n",
       "1  Captain Barbossa, long believed to be dead, ha...   \n",
       "\n",
       "                                               cast              crew  \n",
       "0  [Sam Worthington, Zoe Saldana, Sigourney Weaver]   [James Cameron]  \n",
       "1     [Johnny Depp, Orlando Bloom, Keira Knightley]  [Gore Verbinski]  "
      ]
     },
     "execution_count": 20,
     "metadata": {},
     "output_type": "execute_result"
    }
   ],
   "source": [
    "movies.head(2)"
   ]
  },
  {
   "cell_type": "markdown",
   "id": "7b56a4d4-e408-4fe2-91f2-bc62f0db165d",
   "metadata": {},
   "source": [
    "Converting overview(str) as list"
   ]
  },
  {
   "cell_type": "code",
   "execution_count": 21,
   "id": "9ac5b6fd-41d3-42d6-9fb9-bd3dc700a544",
   "metadata": {},
   "outputs": [],
   "source": [
    "movies['overview'] = movies['overview'].apply(lambda x:x.split(\" \"))"
   ]
  },
  {
   "cell_type": "markdown",
   "id": "605fe418-fc13-44b7-9541-d00720636365",
   "metadata": {},
   "source": [
    "Creating a new column by concatenating all columns"
   ]
  },
  {
   "cell_type": "code",
   "execution_count": 22,
   "id": "eaede39b-bc1b-4a22-b26c-be2af98d5b83",
   "metadata": {},
   "outputs": [
    {
     "data": {
      "text/html": [
       "<div>\n",
       "<style scoped>\n",
       "    .dataframe tbody tr th:only-of-type {\n",
       "        vertical-align: middle;\n",
       "    }\n",
       "\n",
       "    .dataframe tbody tr th {\n",
       "        vertical-align: top;\n",
       "    }\n",
       "\n",
       "    .dataframe thead th {\n",
       "        text-align: right;\n",
       "    }\n",
       "</style>\n",
       "<table border=\"1\" class=\"dataframe\">\n",
       "  <thead>\n",
       "    <tr style=\"text-align: right;\">\n",
       "      <th></th>\n",
       "      <th>title</th>\n",
       "      <th>genres</th>\n",
       "      <th>id</th>\n",
       "      <th>keywords</th>\n",
       "      <th>overview</th>\n",
       "      <th>cast</th>\n",
       "      <th>crew</th>\n",
       "      <th>tags</th>\n",
       "    </tr>\n",
       "  </thead>\n",
       "  <tbody>\n",
       "    <tr>\n",
       "      <th>0</th>\n",
       "      <td>Avatar</td>\n",
       "      <td>[Action, Adventure, Fantasy, Science Fiction]</td>\n",
       "      <td>19995</td>\n",
       "      <td>[culture clash, future, space war, space colon...</td>\n",
       "      <td>[In, the, 22nd, century,, a, paraplegic, Marin...</td>\n",
       "      <td>[Sam Worthington, Zoe Saldana, Sigourney Weaver]</td>\n",
       "      <td>[James Cameron]</td>\n",
       "      <td>[Action, Adventure, Fantasy, Science Fiction, ...</td>\n",
       "    </tr>\n",
       "    <tr>\n",
       "      <th>1</th>\n",
       "      <td>Pirates of the Caribbean: At World's End</td>\n",
       "      <td>[Adventure, Fantasy, Action]</td>\n",
       "      <td>285</td>\n",
       "      <td>[ocean, drug abuse, exotic island, east india ...</td>\n",
       "      <td>[Captain, Barbossa,, long, believed, to, be, d...</td>\n",
       "      <td>[Johnny Depp, Orlando Bloom, Keira Knightley]</td>\n",
       "      <td>[Gore Verbinski]</td>\n",
       "      <td>[Adventure, Fantasy, Action, ocean, drug abuse...</td>\n",
       "    </tr>\n",
       "    <tr>\n",
       "      <th>2</th>\n",
       "      <td>Spectre</td>\n",
       "      <td>[Action, Adventure, Crime]</td>\n",
       "      <td>206647</td>\n",
       "      <td>[spy, based on novel, secret agent, sequel, mi...</td>\n",
       "      <td>[A, cryptic, message, from, Bonds, past, send...</td>\n",
       "      <td>[Daniel Craig, Christoph Waltz, Léa Seydoux]</td>\n",
       "      <td>[Sam Mendes]</td>\n",
       "      <td>[Action, Adventure, Crime, spy, based on novel...</td>\n",
       "    </tr>\n",
       "    <tr>\n",
       "      <th>3</th>\n",
       "      <td>The Dark Knight Rises</td>\n",
       "      <td>[Action, Crime, Drama, Thriller]</td>\n",
       "      <td>49026</td>\n",
       "      <td>[dc comics, crime fighter, terrorist, secret i...</td>\n",
       "      <td>[Following, the, death, of, District, Attorney...</td>\n",
       "      <td>[Christian Bale, Michael Caine, Gary Oldman]</td>\n",
       "      <td>[Christopher Nolan]</td>\n",
       "      <td>[Action, Crime, Drama, Thriller, dc comics, cr...</td>\n",
       "    </tr>\n",
       "    <tr>\n",
       "      <th>4</th>\n",
       "      <td>John Carter</td>\n",
       "      <td>[Action, Adventure, Science Fiction]</td>\n",
       "      <td>49529</td>\n",
       "      <td>[based on novel, mars, medallion, space travel...</td>\n",
       "      <td>[John, Carter, is, a, war-weary,, former, mili...</td>\n",
       "      <td>[Taylor Kitsch, Lynn Collins, Samantha Morton]</td>\n",
       "      <td>[Andrew Stanton]</td>\n",
       "      <td>[Action, Adventure, Science Fiction, based on ...</td>\n",
       "    </tr>\n",
       "  </tbody>\n",
       "</table>\n",
       "</div>"
      ],
      "text/plain": [
       "                                      title  \\\n",
       "0                                    Avatar   \n",
       "1  Pirates of the Caribbean: At World's End   \n",
       "2                                   Spectre   \n",
       "3                     The Dark Knight Rises   \n",
       "4                               John Carter   \n",
       "\n",
       "                                          genres      id  \\\n",
       "0  [Action, Adventure, Fantasy, Science Fiction]   19995   \n",
       "1                   [Adventure, Fantasy, Action]     285   \n",
       "2                     [Action, Adventure, Crime]  206647   \n",
       "3               [Action, Crime, Drama, Thriller]   49026   \n",
       "4           [Action, Adventure, Science Fiction]   49529   \n",
       "\n",
       "                                            keywords  \\\n",
       "0  [culture clash, future, space war, space colon...   \n",
       "1  [ocean, drug abuse, exotic island, east india ...   \n",
       "2  [spy, based on novel, secret agent, sequel, mi...   \n",
       "3  [dc comics, crime fighter, terrorist, secret i...   \n",
       "4  [based on novel, mars, medallion, space travel...   \n",
       "\n",
       "                                            overview  \\\n",
       "0  [In, the, 22nd, century,, a, paraplegic, Marin...   \n",
       "1  [Captain, Barbossa,, long, believed, to, be, d...   \n",
       "2  [A, cryptic, message, from, Bonds, past, send...   \n",
       "3  [Following, the, death, of, District, Attorney...   \n",
       "4  [John, Carter, is, a, war-weary,, former, mili...   \n",
       "\n",
       "                                               cast                 crew  \\\n",
       "0  [Sam Worthington, Zoe Saldana, Sigourney Weaver]      [James Cameron]   \n",
       "1     [Johnny Depp, Orlando Bloom, Keira Knightley]     [Gore Verbinski]   \n",
       "2      [Daniel Craig, Christoph Waltz, Léa Seydoux]         [Sam Mendes]   \n",
       "3      [Christian Bale, Michael Caine, Gary Oldman]  [Christopher Nolan]   \n",
       "4    [Taylor Kitsch, Lynn Collins, Samantha Morton]     [Andrew Stanton]   \n",
       "\n",
       "                                                tags  \n",
       "0  [Action, Adventure, Fantasy, Science Fiction, ...  \n",
       "1  [Adventure, Fantasy, Action, ocean, drug abuse...  \n",
       "2  [Action, Adventure, Crime, spy, based on novel...  \n",
       "3  [Action, Crime, Drama, Thriller, dc comics, cr...  \n",
       "4  [Action, Adventure, Science Fiction, based on ...  "
      ]
     },
     "execution_count": 22,
     "metadata": {},
     "output_type": "execute_result"
    }
   ],
   "source": [
    "movies['tags'] = movies['genres']+movies['keywords']+movies['overview']+movies['cast']+movies['crew']\n",
    "movies.head()"
   ]
  },
  {
   "cell_type": "markdown",
   "id": "3f2a4a3b-74f1-4349-93af-788563ff2159",
   "metadata": {},
   "source": [
    "Storing it in a new df"
   ]
  },
  {
   "cell_type": "code",
   "execution_count": 23,
   "id": "d4c9814e-55f2-46d4-9e29-d00141f207cc",
   "metadata": {},
   "outputs": [],
   "source": [
    "new_movies = movies[['id','title','tags']].copy()"
   ]
  },
  {
   "cell_type": "markdown",
   "id": "8662dd5b-94bc-4fc6-b69c-72bb7e701801",
   "metadata": {},
   "source": [
    "Deleting the space between words"
   ]
  },
  {
   "cell_type": "code",
   "execution_count": 24,
   "id": "d844ad4b-c9c3-4488-a326-5016cfc92163",
   "metadata": {},
   "outputs": [
    {
     "data": {
      "text/html": [
       "<div>\n",
       "<style scoped>\n",
       "    .dataframe tbody tr th:only-of-type {\n",
       "        vertical-align: middle;\n",
       "    }\n",
       "\n",
       "    .dataframe tbody tr th {\n",
       "        vertical-align: top;\n",
       "    }\n",
       "\n",
       "    .dataframe thead th {\n",
       "        text-align: right;\n",
       "    }\n",
       "</style>\n",
       "<table border=\"1\" class=\"dataframe\">\n",
       "  <thead>\n",
       "    <tr style=\"text-align: right;\">\n",
       "      <th></th>\n",
       "      <th>id</th>\n",
       "      <th>title</th>\n",
       "      <th>tags</th>\n",
       "    </tr>\n",
       "  </thead>\n",
       "  <tbody>\n",
       "    <tr>\n",
       "      <th>0</th>\n",
       "      <td>19995</td>\n",
       "      <td>Avatar</td>\n",
       "      <td>[Action, Adventure, Fantasy, ScienceFiction, c...</td>\n",
       "    </tr>\n",
       "    <tr>\n",
       "      <th>1</th>\n",
       "      <td>285</td>\n",
       "      <td>Pirates of the Caribbean: At World's End</td>\n",
       "      <td>[Adventure, Fantasy, Action, ocean, drugabuse,...</td>\n",
       "    </tr>\n",
       "    <tr>\n",
       "      <th>2</th>\n",
       "      <td>206647</td>\n",
       "      <td>Spectre</td>\n",
       "      <td>[Action, Adventure, Crime, spy, basedonnovel, ...</td>\n",
       "    </tr>\n",
       "    <tr>\n",
       "      <th>3</th>\n",
       "      <td>49026</td>\n",
       "      <td>The Dark Knight Rises</td>\n",
       "      <td>[Action, Crime, Drama, Thriller, dccomics, cri...</td>\n",
       "    </tr>\n",
       "    <tr>\n",
       "      <th>4</th>\n",
       "      <td>49529</td>\n",
       "      <td>John Carter</td>\n",
       "      <td>[Action, Adventure, ScienceFiction, basedonnov...</td>\n",
       "    </tr>\n",
       "  </tbody>\n",
       "</table>\n",
       "</div>"
      ],
      "text/plain": [
       "       id                                     title  \\\n",
       "0   19995                                    Avatar   \n",
       "1     285  Pirates of the Caribbean: At World's End   \n",
       "2  206647                                   Spectre   \n",
       "3   49026                     The Dark Knight Rises   \n",
       "4   49529                               John Carter   \n",
       "\n",
       "                                                tags  \n",
       "0  [Action, Adventure, Fantasy, ScienceFiction, c...  \n",
       "1  [Adventure, Fantasy, Action, ocean, drugabuse,...  \n",
       "2  [Action, Adventure, Crime, spy, basedonnovel, ...  \n",
       "3  [Action, Crime, Drama, Thriller, dccomics, cri...  \n",
       "4  [Action, Adventure, ScienceFiction, basedonnov...  "
      ]
     },
     "execution_count": 24,
     "metadata": {},
     "output_type": "execute_result"
    }
   ],
   "source": [
    "new_movies['tags'] = new_movies['tags'].apply(lambda x:[i.replace(\" \",\"\") for i in x])\n",
    "new_movies.head()"
   ]
  },
  {
   "cell_type": "code",
   "execution_count": 25,
   "id": "6ccd366a-aca4-483b-aead-d92d9d42394c",
   "metadata": {},
   "outputs": [],
   "source": [
    "pd.set_option('max_colwidth', None)"
   ]
  },
  {
   "cell_type": "markdown",
   "id": "0ada01de-e10f-4809-ad05-e79fd3d1e25d",
   "metadata": {},
   "source": [
    "Convertng tags --> list to string"
   ]
  },
  {
   "cell_type": "code",
   "execution_count": 26,
   "id": "6398386f-0a62-46e1-b4ba-7704e5bb9b82",
   "metadata": {},
   "outputs": [],
   "source": [
    "new_movies['tags'] = new_movies['tags'].apply(lambda x:\" \".join(x))"
   ]
  },
  {
   "cell_type": "code",
   "execution_count": 27,
   "id": "3309a955-94ef-4b78-bdd7-d1e4463a17f2",
   "metadata": {},
   "outputs": [
    {
     "data": {
      "text/html": [
       "<div>\n",
       "<style scoped>\n",
       "    .dataframe tbody tr th:only-of-type {\n",
       "        vertical-align: middle;\n",
       "    }\n",
       "\n",
       "    .dataframe tbody tr th {\n",
       "        vertical-align: top;\n",
       "    }\n",
       "\n",
       "    .dataframe thead th {\n",
       "        text-align: right;\n",
       "    }\n",
       "</style>\n",
       "<table border=\"1\" class=\"dataframe\">\n",
       "  <thead>\n",
       "    <tr style=\"text-align: right;\">\n",
       "      <th></th>\n",
       "      <th>id</th>\n",
       "      <th>title</th>\n",
       "      <th>tags</th>\n",
       "    </tr>\n",
       "  </thead>\n",
       "  <tbody>\n",
       "    <tr>\n",
       "      <th>0</th>\n",
       "      <td>19995</td>\n",
       "      <td>Avatar</td>\n",
       "      <td>Action Adventure Fantasy ScienceFiction cultureclash future spacewar spacecolony society spacetravel futuristic romance space alien tribe alienplanet cgi marine soldier battle loveaffair antiwar powerrelations mindandsoul 3d In the 22nd century, a paraplegic Marine is dispatched to the moon Pandora on a unique mission, but becomes torn between following orders and protecting an alien civilization. SamWorthington ZoeSaldana SigourneyWeaver JamesCameron</td>\n",
       "    </tr>\n",
       "    <tr>\n",
       "      <th>1</th>\n",
       "      <td>285</td>\n",
       "      <td>Pirates of the Caribbean: At World's End</td>\n",
       "      <td>Adventure Fantasy Action ocean drugabuse exoticisland eastindiatradingcompany loveofone'slife traitor shipwreck strongwoman ship alliance calypso afterlife fighter pirate swashbuckler aftercreditsstinger Captain Barbossa, long believed to be dead, has come back to life and is headed to the edge of the Earth with Will Turner and Elizabeth Swann. But nothing is quite as it seems. JohnnyDepp OrlandoBloom KeiraKnightley GoreVerbinski</td>\n",
       "    </tr>\n",
       "    <tr>\n",
       "      <th>2</th>\n",
       "      <td>206647</td>\n",
       "      <td>Spectre</td>\n",
       "      <td>Action Adventure Crime spy basedonnovel secretagent sequel mi6 britishsecretservice unitedkingdom A cryptic message from Bonds past sends him on a trail to uncover a sinister organization. While M battles political forces to keep the secret service alive, Bond peels back the layers of deceit to reveal the terrible truth behind SPECTRE. DanielCraig ChristophWaltz LéaSeydoux SamMendes</td>\n",
       "    </tr>\n",
       "  </tbody>\n",
       "</table>\n",
       "</div>"
      ],
      "text/plain": [
       "       id                                     title  \\\n",
       "0   19995                                    Avatar   \n",
       "1     285  Pirates of the Caribbean: At World's End   \n",
       "2  206647                                   Spectre   \n",
       "\n",
       "                                                                                                                                                                                                                                                                                                                                                                                                                                                                      tags  \n",
       "0  Action Adventure Fantasy ScienceFiction cultureclash future spacewar spacecolony society spacetravel futuristic romance space alien tribe alienplanet cgi marine soldier battle loveaffair antiwar powerrelations mindandsoul 3d In the 22nd century, a paraplegic Marine is dispatched to the moon Pandora on a unique mission, but becomes torn between following orders and protecting an alien civilization. SamWorthington ZoeSaldana SigourneyWeaver JamesCameron  \n",
       "1                        Adventure Fantasy Action ocean drugabuse exoticisland eastindiatradingcompany loveofone'slife traitor shipwreck strongwoman ship alliance calypso afterlife fighter pirate swashbuckler aftercreditsstinger Captain Barbossa, long believed to be dead, has come back to life and is headed to the edge of the Earth with Will Turner and Elizabeth Swann. But nothing is quite as it seems. JohnnyDepp OrlandoBloom KeiraKnightley GoreVerbinski  \n",
       "2                                                                       Action Adventure Crime spy basedonnovel secretagent sequel mi6 britishsecretservice unitedkingdom A cryptic message from Bonds past sends him on a trail to uncover a sinister organization. While M battles political forces to keep the secret service alive, Bond peels back the layers of deceit to reveal the terrible truth behind SPECTRE. DanielCraig ChristophWaltz LéaSeydoux SamMendes  "
      ]
     },
     "execution_count": 27,
     "metadata": {},
     "output_type": "execute_result"
    }
   ],
   "source": [
    "new_movies.head(3)"
   ]
  },
  {
   "cell_type": "code",
   "execution_count": 28,
   "id": "2f21c796-4bd3-445b-bcf8-e57fbedd2975",
   "metadata": {},
   "outputs": [],
   "source": [
    "new_movies['tags'] = new_movies['tags'].apply(lambda x:x.lower())"
   ]
  },
  {
   "cell_type": "code",
   "execution_count": 29,
   "id": "a9641b33-74cb-4ba7-b32b-e48787d1ca5d",
   "metadata": {},
   "outputs": [
    {
     "data": {
      "text/html": [
       "<div>\n",
       "<style scoped>\n",
       "    .dataframe tbody tr th:only-of-type {\n",
       "        vertical-align: middle;\n",
       "    }\n",
       "\n",
       "    .dataframe tbody tr th {\n",
       "        vertical-align: top;\n",
       "    }\n",
       "\n",
       "    .dataframe thead th {\n",
       "        text-align: right;\n",
       "    }\n",
       "</style>\n",
       "<table border=\"1\" class=\"dataframe\">\n",
       "  <thead>\n",
       "    <tr style=\"text-align: right;\">\n",
       "      <th></th>\n",
       "      <th>id</th>\n",
       "      <th>title</th>\n",
       "      <th>tags</th>\n",
       "    </tr>\n",
       "  </thead>\n",
       "  <tbody>\n",
       "    <tr>\n",
       "      <th>0</th>\n",
       "      <td>19995</td>\n",
       "      <td>Avatar</td>\n",
       "      <td>action adventure fantasy sciencefiction cultureclash future spacewar spacecolony society spacetravel futuristic romance space alien tribe alienplanet cgi marine soldier battle loveaffair antiwar powerrelations mindandsoul 3d in the 22nd century, a paraplegic marine is dispatched to the moon pandora on a unique mission, but becomes torn between following orders and protecting an alien civilization. samworthington zoesaldana sigourneyweaver jamescameron</td>\n",
       "    </tr>\n",
       "    <tr>\n",
       "      <th>1</th>\n",
       "      <td>285</td>\n",
       "      <td>Pirates of the Caribbean: At World's End</td>\n",
       "      <td>adventure fantasy action ocean drugabuse exoticisland eastindiatradingcompany loveofone'slife traitor shipwreck strongwoman ship alliance calypso afterlife fighter pirate swashbuckler aftercreditsstinger captain barbossa, long believed to be dead, has come back to life and is headed to the edge of the earth with will turner and elizabeth swann. but nothing is quite as it seems. johnnydepp orlandobloom keiraknightley goreverbinski</td>\n",
       "    </tr>\n",
       "    <tr>\n",
       "      <th>2</th>\n",
       "      <td>206647</td>\n",
       "      <td>Spectre</td>\n",
       "      <td>action adventure crime spy basedonnovel secretagent sequel mi6 britishsecretservice unitedkingdom a cryptic message from bonds past sends him on a trail to uncover a sinister organization. while m battles political forces to keep the secret service alive, bond peels back the layers of deceit to reveal the terrible truth behind spectre. danielcraig christophwaltz léaseydoux sammendes</td>\n",
       "    </tr>\n",
       "    <tr>\n",
       "      <th>3</th>\n",
       "      <td>49026</td>\n",
       "      <td>The Dark Knight Rises</td>\n",
       "      <td>action crime drama thriller dccomics crimefighter terrorist secretidentity burglar hostagedrama timebomb gothamcity vigilante cover-up superhero villainess tragichero terrorism destruction catwoman catburglar imax flood criminalunderworld batman following the death of district attorney harvey dent, batman assumes responsibility for dent's crimes to protect the late attorney's reputation and is subsequently hunted by the gotham city police department. eight years later, batman encounters the mysterious selina kyle and the villainous bane, a new terrorist leader who overwhelms gotham's finest. the dark knight resurfaces to protect a city that has branded him an enemy. christianbale michaelcaine garyoldman christophernolan</td>\n",
       "    </tr>\n",
       "  </tbody>\n",
       "</table>\n",
       "</div>"
      ],
      "text/plain": [
       "       id                                     title  \\\n",
       "0   19995                                    Avatar   \n",
       "1     285  Pirates of the Caribbean: At World's End   \n",
       "2  206647                                   Spectre   \n",
       "3   49026                     The Dark Knight Rises   \n",
       "\n",
       "                                                                                                                                                                                                                                                                                                                                                                                                                                                                                                                                                                                                                                                                                                                                                        tags  \n",
       "0                                                                                                                                                                                                                                                                                    action adventure fantasy sciencefiction cultureclash future spacewar spacecolony society spacetravel futuristic romance space alien tribe alienplanet cgi marine soldier battle loveaffair antiwar powerrelations mindandsoul 3d in the 22nd century, a paraplegic marine is dispatched to the moon pandora on a unique mission, but becomes torn between following orders and protecting an alien civilization. samworthington zoesaldana sigourneyweaver jamescameron  \n",
       "1                                                                                                                                                                                                                                                                                                          adventure fantasy action ocean drugabuse exoticisland eastindiatradingcompany loveofone'slife traitor shipwreck strongwoman ship alliance calypso afterlife fighter pirate swashbuckler aftercreditsstinger captain barbossa, long believed to be dead, has come back to life and is headed to the edge of the earth with will turner and elizabeth swann. but nothing is quite as it seems. johnnydepp orlandobloom keiraknightley goreverbinski  \n",
       "2                                                                                                                                                                                                                                                                                                                                                         action adventure crime spy basedonnovel secretagent sequel mi6 britishsecretservice unitedkingdom a cryptic message from bonds past sends him on a trail to uncover a sinister organization. while m battles political forces to keep the secret service alive, bond peels back the layers of deceit to reveal the terrible truth behind spectre. danielcraig christophwaltz léaseydoux sammendes  \n",
       "3  action crime drama thriller dccomics crimefighter terrorist secretidentity burglar hostagedrama timebomb gothamcity vigilante cover-up superhero villainess tragichero terrorism destruction catwoman catburglar imax flood criminalunderworld batman following the death of district attorney harvey dent, batman assumes responsibility for dent's crimes to protect the late attorney's reputation and is subsequently hunted by the gotham city police department. eight years later, batman encounters the mysterious selina kyle and the villainous bane, a new terrorist leader who overwhelms gotham's finest. the dark knight resurfaces to protect a city that has branded him an enemy. christianbale michaelcaine garyoldman christophernolan  "
      ]
     },
     "execution_count": 29,
     "metadata": {},
     "output_type": "execute_result"
    }
   ],
   "source": [
    "new_movies.head(4)"
   ]
  },
  {
   "cell_type": "markdown",
   "id": "890b1d9d-251b-4d1f-b549-e4a0b673b87a",
   "metadata": {},
   "source": [
    "Preprocessing ends --Convertng the strng to lowercase"
   ]
  },
  {
   "cell_type": "markdown",
   "id": "084cdf73-97e7-498a-be91-cc2c683d55ff",
   "metadata": {},
   "source": [
    "# Vectorization\n",
    " - creating a vector and its count using countvectorizer and remove stop words using sklearn"
   ]
  },
  {
   "cell_type": "code",
   "execution_count": 30,
   "id": "a194459a-6b65-4b70-8e40-1b3b1ae93af0",
   "metadata": {},
   "outputs": [],
   "source": [
    "cv = CountVectorizer(max_features=5000,stop_words='english')\n",
    "\n",
    "vector = cv.fit_transform(new_movies['tags']).toarray()"
   ]
  },
  {
   "cell_type": "markdown",
   "id": "9f953b45-6783-4c1b-a21c-6061a604c0c1",
   "metadata": {},
   "source": [
    "analyse the feature name of the vectors"
   ]
  },
  {
   "cell_type": "code",
   "execution_count": 31,
   "id": "6d8bcd37-4632-47d5-9587-c01ccacadcd5",
   "metadata": {},
   "outputs": [
    {
     "data": {
      "text/plain": [
       "array(['000', '007', '10', ..., 'zone', 'zoo', 'zooeydeschanel'],\n",
       "      dtype=object)"
      ]
     },
     "execution_count": 31,
     "metadata": {},
     "output_type": "execute_result"
    }
   ],
   "source": [
    "cv.get_feature_names_out()"
   ]
  },
  {
   "cell_type": "markdown",
   "id": "943c7302-6f43-40be-aecb-101772fc5ed2",
   "metadata": {},
   "source": [
    "#Stemming\n",
    "---\n",
    "remove the repeated words using stem fn from ntlk"
   ]
  },
  {
   "cell_type": "code",
   "execution_count": 32,
   "id": "c8c8acf0-e8e1-4621-a303-f6cc388d43b3",
   "metadata": {},
   "outputs": [],
   "source": [
    "ps = PorterStemmer()"
   ]
  },
  {
   "cell_type": "code",
   "execution_count": 33,
   "id": "397a1635-fb60-4cfa-88d0-916860b20528",
   "metadata": {},
   "outputs": [],
   "source": [
    "def stemming(text):\n",
    "    L =[]\n",
    "    for i in text:\n",
    "        L.append(ps.stem(i))\n",
    "    return \" \".join(L)"
   ]
  },
  {
   "cell_type": "markdown",
   "id": "b7f36a10-1796-485a-9dab-56f76d096838",
   "metadata": {},
   "source": [
    "# Cosine similarity"
   ]
  },
  {
   "cell_type": "code",
   "execution_count": 34,
   "id": "c0aa07e6-43f1-44f9-96ad-11fc75548049",
   "metadata": {},
   "outputs": [],
   "source": [
    "similarity = cosine_similarity(vector)"
   ]
  },
  {
   "cell_type": "code",
   "execution_count": 35,
   "id": "d055adc2-ff8e-4c9e-9074-7b229d8f69a3",
   "metadata": {},
   "outputs": [
    {
     "data": {
      "text/plain": [
       "[(535, 0.24715576637149034),\n",
       " (1185, 0.24459979523511427),\n",
       " (503, 0.241948228618021),\n",
       " (257, 0.23007892341722033),\n",
       " (1207, 0.23000322710873397)]"
      ]
     },
     "execution_count": 35,
     "metadata": {},
     "output_type": "execute_result"
    }
   ],
   "source": [
    "sorted(list(enumerate(similarity[0])),reverse=True,key=lambda x:x[1])[1:6]"
   ]
  },
  {
   "cell_type": "markdown",
   "id": "51bb794a-da85-43ea-b39c-8b2bb69d5e01",
   "metadata": {},
   "source": [
    "# Recommendation function\n",
    "write fn to calculate movie index,distnace and get list of movies(top 5) with high similiarity"
   ]
  },
  {
   "cell_type": "code",
   "execution_count": 36,
   "id": "d4434fdb-64b5-4ace-bb58-a1e51c3fab46",
   "metadata": {},
   "outputs": [],
   "source": [
    "def recommend(movie):\n",
    "    movie_index = new_movies[new_movies['title'] == movie].index[0]\n",
    "    distance = sorted(list(enumerate(similarity[movie_index])),reverse=True,key=lambda x:x[1])\n",
    "    for i in distance[1:6]:\n",
    "        print(new_movies.iloc[i[0]].title)"
   ]
  },
  {
   "cell_type": "code",
   "execution_count": 37,
   "id": "d93ca9c4-670c-420d-9efb-4048d42c5b1b",
   "metadata": {},
   "outputs": [],
   "source": [
    "# recommend(\"Avatar\")"
   ]
  },
  {
   "cell_type": "markdown",
   "id": "49adc5f1-c627-45cf-a017-a9fa1152aee3",
   "metadata": {},
   "source": [
    "# Exporting\n",
    "---\n",
    " - Pickling the whole pre-processed movie data and also the similarity model we built so that we can use it in streamlit\n",
    " - Using `compress-pickle` to reduce the size of pickle"
   ]
  },
  {
   "cell_type": "code",
   "execution_count": 38,
   "id": "30fb68f9-2afa-4bb5-aa17-f7dd5c4d9121",
   "metadata": {},
   "outputs": [],
   "source": [
    "cPickle.dump(new_movies,open('C:/Users/noble/PycharmProjects/movie-recommender/assets/pickles/movies.lzma','wb'),compression='lzma')"
   ]
  },
  {
   "cell_type": "code",
   "execution_count": 39,
   "id": "8dcdefec-6804-4491-b96a-9fa1d0ad8fc1",
   "metadata": {},
   "outputs": [],
   "source": [
    "cPickle.dump(similarity,open('C:/Users/noble/PycharmProjects/movie-recommender/assets/pickles/similarity.lzma','wb'),compression='lzma')"
   ]
  }
 ],
 "metadata": {
  "kernelspec": {
   "display_name": "Python 3 (ipykernel)",
   "language": "python",
   "name": "python3"
  },
  "language_info": {
   "codemirror_mode": {
    "name": "ipython",
    "version": 3
   },
   "file_extension": ".py",
   "mimetype": "text/x-python",
   "name": "python",
   "nbconvert_exporter": "python",
   "pygments_lexer": "ipython3",
   "version": "3.11.5"
  }
 },
 "nbformat": 4,
 "nbformat_minor": 5
}
